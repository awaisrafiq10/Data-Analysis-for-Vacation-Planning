{
 "cells": [
  {
   "cell_type": "markdown",
   "id": "78cf5325",
   "metadata": {},
   "source": [
    "# Data Analysis for Vacation Planning\n",
    "\n",
    "You're planning a vacation, and you need to decide which city you want to visit. You have shortlisted four cities and identified the return flight cost, daily hotel cost, and weekly car rental cost. While renting a car, you need to pay for entire weeks, even if you return the car sooner.\n",
    "\n",
    "\n",
    "| City | Return Flight (`$`) | Hotel per day (`$`) | Weekly Car Rental  (`$`) | \n",
    "|------|--------------------------|------------------|------------------------|\n",
    "| Paris|       200                |       20         |          200           |\n",
    "| London|      250                |       30         |          120           |\n",
    "| Dubai|       370                |       15         |          80           |\n",
    "| Mumbai|      450                 |       10         |          70           |         \n",
    "\n",
    "\n",
    "Answer the following questions using the data above:\n",
    "\n",
    "1. If you're planning a 1-week long trip, which city should you visit to spend the least amount of money?\n",
    "2. How does the answer to the previous question change if you change the trip's **Duration** to four days, ten days or two weeks?\n",
    "3. If your total **Budget** for the trip is `$1000`, which city should you visit to maximize the duration of your trip? Which city should you visit if you want to minimize the duration?\n",
    "4. How does the answer to the previous question change if your budget is `$600`, `$2000`, or `$1500`?\n",
    "\n",
    "*Hint: To answer these questions, it will help to define a function `cost_of_trip` with relevant inputs like flight cost, hotel rate, car rental rate, and duration of the trip. You may find the `math.ceil` function useful for calculating the total cost of car rental.*"
   ]
  },
  {
   "cell_type": "markdown",
   "id": "f2f9051d",
   "metadata": {},
   "source": [
    "## Solution:"
   ]
  },
  {
   "cell_type": "code",
   "execution_count": 163,
   "id": "d0242212",
   "metadata": {
    "scrolled": true
   },
   "outputs": [],
   "source": [
    "#first of all defining a nested dictionary/variable for each city to store values containing other dictionaries\n",
    "cities = {\"Paris\": {\"return_fLight\": 200, \"hotel_per_day\": 20, \"weekly_car_rent\": 200},\n",
    "          \"London\": {\"return_fLight\": 250, \"hotel_per_day\": 30, \"weekly_car_rent\": 120},\n",
    "          \"Dubai\": {\"return_fLight\": 370, \"hotel_per_day\": 15, \"weekly_car_rent\": 80},\n",
    "          \"Mumbai\": {\"return_fLight\": 450, \"hotel_per_day\": 10, \"weekly_car_rent\": 70}}"
   ]
  },
  {
   "cell_type": "markdown",
   "id": "51137cef",
   "metadata": {},
   "source": [
    "#### 1. If you're planning a 1-week long trip, which city should you visit to spend the least amount of money?"
   ]
  },
  {
   "cell_type": "code",
   "execution_count": 164,
   "id": "76af1b09",
   "metadata": {
    "scrolled": true
   },
   "outputs": [],
   "source": [
    "# we have to find CITY to spend lEAST AMOUNT/COST wrt DURATION. And we noticed that our amount/cost depends on number of days.\n",
    "# so we will first define a funciton city_cost to find the total cost of a city wrt 4 parameters.\n",
    "\n",
    "def city_cost(flight, hotel, car, days):\n",
    "    return (flight+(hotel*days)+(car*(days/7)))\n",
    "\n",
    "# Then we will define a function trip_days to find the minimum cost by getting cost of each city in the list named as costs.\n",
    "\n",
    "def trip_days(days):\n",
    "    costs = []\n",
    "    for city, prices in cities.items():\n",
    "#         print(city)\n",
    "#         print(prices)\n",
    "        total_cost = city_cost(prices[\"return_fLight\"], prices[\"hotel_per_day\"], prices[\"weekly_car_rent\"], days)\n",
    "        costs.append((total_cost, city))\n",
    "    print(costs)\n",
    "    return min(costs)\n",
    "# smimilarly we can return a city with maximum costs wrt days by returning max(costs).\n",
    "    #return max(costs)"
   ]
  },
  {
   "cell_type": "code",
   "execution_count": 165,
   "id": "8f2ff88d",
   "metadata": {
    "scrolled": true
   },
   "outputs": [
    {
     "name": "stdout",
     "output_type": "stream",
     "text": [
      "[(540.0, 'Paris'), (580.0, 'London'), (555.0, 'Dubai'), (590.0, 'Mumbai')]\n"
     ]
    },
    {
     "data": {
      "text/plain": [
       "(540.0, 'Paris')"
      ]
     },
     "execution_count": 165,
     "metadata": {},
     "output_type": "execute_result"
    }
   ],
   "source": [
    "trip_days(7)"
   ]
  },
  {
   "cell_type": "markdown",
   "id": "f89b8841",
   "metadata": {},
   "source": [
    "#### 2. How does the answer to the previous question change if you change the trip's **Duration** to four days, ten days or two weeks?"
   ]
  },
  {
   "cell_type": "code",
   "execution_count": 166,
   "id": "214754da",
   "metadata": {
    "scrolled": true
   },
   "outputs": [
    {
     "name": "stdout",
     "output_type": "stream",
     "text": [
      "[(394.2857142857143, 'Paris'), (438.57142857142856, 'London'), (475.7142857142857, 'Dubai'), (530.0, 'Mumbai')]\n"
     ]
    },
    {
     "data": {
      "text/plain": [
       "(394.2857142857143, 'Paris')"
      ]
     },
     "execution_count": 166,
     "metadata": {},
     "output_type": "execute_result"
    }
   ],
   "source": [
    "trip_days(4)"
   ]
  },
  {
   "cell_type": "code",
   "execution_count": 167,
   "id": "b61a8e27",
   "metadata": {
    "scrolled": true
   },
   "outputs": [
    {
     "name": "stdout",
     "output_type": "stream",
     "text": [
      "[(685.7142857142858, 'Paris'), (721.4285714285714, 'London'), (634.2857142857143, 'Dubai'), (650.0, 'Mumbai')]\n"
     ]
    },
    {
     "data": {
      "text/plain": [
       "(634.2857142857143, 'Dubai')"
      ]
     },
     "execution_count": 167,
     "metadata": {},
     "output_type": "execute_result"
    }
   ],
   "source": [
    "trip_days(10)"
   ]
  },
  {
   "cell_type": "code",
   "execution_count": 168,
   "id": "0426e666",
   "metadata": {
    "scrolled": true
   },
   "outputs": [
    {
     "name": "stdout",
     "output_type": "stream",
     "text": [
      "[(880.0, 'Paris'), (910.0, 'London'), (740.0, 'Dubai'), (730.0, 'Mumbai')]\n"
     ]
    },
    {
     "data": {
      "text/plain": [
       "(730.0, 'Mumbai')"
      ]
     },
     "execution_count": 168,
     "metadata": {},
     "output_type": "execute_result"
    }
   ],
   "source": [
    "trip_days(14)"
   ]
  },
  {
   "cell_type": "markdown",
   "id": "e5f7637d",
   "metadata": {},
   "source": [
    "#### 3. If your total budget for the trip is `$600`, which city should you visit to maximize the duration of your trip? Which city should you visit if you want to minimize the duration?"
   ]
  },
  {
   "cell_type": "code",
   "execution_count": 169,
   "id": "580aab09",
   "metadata": {
    "scrolled": true
   },
   "outputs": [],
   "source": [
    "# now we have to find the Duration(maximum or minimum) of trip wrt Budget of the trip.\n",
    "# we should apply the conditions when we have budget =>\n",
    "def duration(budget, less_days=False):\n",
    "    days = 1\n",
    "    total_cost = 0\n",
    "    while total_cost < budget:\n",
    "        total_cost_before = total_cost\n",
    "        try:\n",
    "            costs_before=costs.copy()             #copy of costs dictionary, if exists\n",
    "        except:\n",
    "            costs_before={}                      #if costs dictionary doesn't exist, create an empty dictionary\n",
    "        costs={}\n",
    "        for city, prices in cities.items():\n",
    "    #         print(city)\n",
    "    #         print(prices)\n",
    "            each_city_cost = city_cost(prices[\"return_fLight\"], prices[\"hotel_per_day\"], prices[\"weekly_car_rent\"], days)\n",
    "            costs[each_city_cost] = city\n",
    "        if less_days:\n",
    "            total_cost=max(list(costs.keys()))\n",
    "            ''' The while loop breaks only after cost>600 condition is met.\n",
    "            when the condition is met, the costs dictionary updates to values that are greater than 600 \n",
    "            so we check if it is exceeding, if it does, we return the values from the previous dictionary cost_before. '''\n",
    "            if total_cost>=budget:\n",
    "                print(f\"\\n Maximum total_cost ({total_cost}) has now become greater than budget ({budget}). So ouput for total_cost_before,\")\n",
    "                print(\"\\n City with Min days: \")\n",
    "                return costs_before[total_cost_before], str(days-1)+\" Days\"\n",
    "        else:   \n",
    "            total_cost=min(list(costs.keys()))\n",
    "            if total_cost>=budget:\n",
    "                print(f\"\\n Minimum total_cost ({total_cost}) has now become greater than budget ({budget}). So ouput for total_cost_before,\")\n",
    "                print(\"\\n city with Max days: \")\n",
    "                return costs_before[total_cost_before], str(days-1)+\" Days\"\n",
    "        print(costs)\n",
    "        print(days)\n",
    "        days+=1\n",
    "\n",
    "        \n",
    "    "
   ]
  },
  {
   "cell_type": "code",
   "execution_count": 170,
   "id": "29f9782f",
   "metadata": {
    "scrolled": true
   },
   "outputs": [
    {
     "name": "stdout",
     "output_type": "stream",
     "text": [
      "{248.57142857142856: 'Paris', 297.14285714285717: 'London', 396.42857142857144: 'Dubai', 470.0: 'Mumbai'}\n",
      "1\n",
      "{297.1428571428571: 'Paris', 344.2857142857143: 'London', 422.85714285714283: 'Dubai', 490.0: 'Mumbai'}\n",
      "2\n",
      "{345.7142857142857: 'Paris', 391.42857142857144: 'London', 449.2857142857143: 'Dubai', 510.0: 'Mumbai'}\n",
      "3\n",
      "{394.2857142857143: 'Paris', 438.57142857142856: 'London', 475.7142857142857: 'Dubai', 530.0: 'Mumbai'}\n",
      "4\n",
      "{442.8571428571429: 'Paris', 485.7142857142857: 'London', 502.14285714285717: 'Dubai', 550.0: 'Mumbai'}\n",
      "5\n",
      "{491.42857142857144: 'Paris', 532.8571428571429: 'London', 528.5714285714286: 'Dubai', 570.0: 'Mumbai'}\n",
      "6\n",
      "{540.0: 'Paris', 580.0: 'London', 555.0: 'Dubai', 590.0: 'Mumbai'}\n",
      "7\n",
      "{588.5714285714286: 'Paris', 627.1428571428571: 'London', 581.4285714285714: 'Dubai', 610.0: 'Mumbai'}\n",
      "8\n",
      "\n",
      " Minimum total_cost (607.8571428571429) has now become greater than budget (600). So ouput for total_cost_before,\n",
      "\n",
      " city with Max days: \n"
     ]
    },
    {
     "data": {
      "text/plain": [
       "('Dubai', '8 Days')"
      ]
     },
     "execution_count": 170,
     "metadata": {},
     "output_type": "execute_result"
    }
   ],
   "source": [
    "duration(600)"
   ]
  },
  {
   "cell_type": "code",
   "execution_count": 171,
   "id": "067b00fe",
   "metadata": {
    "scrolled": true
   },
   "outputs": [
    {
     "name": "stdout",
     "output_type": "stream",
     "text": [
      "{248.57142857142856: 'Paris', 297.14285714285717: 'London', 396.42857142857144: 'Dubai', 470.0: 'Mumbai'}\n",
      "1\n",
      "{297.1428571428571: 'Paris', 344.2857142857143: 'London', 422.85714285714283: 'Dubai', 490.0: 'Mumbai'}\n",
      "2\n",
      "{345.7142857142857: 'Paris', 391.42857142857144: 'London', 449.2857142857143: 'Dubai', 510.0: 'Mumbai'}\n",
      "3\n",
      "{394.2857142857143: 'Paris', 438.57142857142856: 'London', 475.7142857142857: 'Dubai', 530.0: 'Mumbai'}\n",
      "4\n",
      "{442.8571428571429: 'Paris', 485.7142857142857: 'London', 502.14285714285717: 'Dubai', 550.0: 'Mumbai'}\n",
      "5\n",
      "{491.42857142857144: 'Paris', 532.8571428571429: 'London', 528.5714285714286: 'Dubai', 570.0: 'Mumbai'}\n",
      "6\n",
      "{540.0: 'Paris', 580.0: 'London', 555.0: 'Dubai', 590.0: 'Mumbai'}\n",
      "7\n",
      "\n",
      " Maximum total_cost (627.1428571428571) has now become greater than budget (600). So ouput for total_cost_before,\n",
      "\n",
      " City with Min days: \n"
     ]
    },
    {
     "data": {
      "text/plain": [
       "('Mumbai', '7 Days')"
      ]
     },
     "execution_count": 171,
     "metadata": {},
     "output_type": "execute_result"
    }
   ],
   "source": [
    "duration(600, less_days = True)"
   ]
  },
  {
   "cell_type": "markdown",
   "id": "c0a9b184",
   "metadata": {},
   "source": [
    "####  4. How does the answer to the previous question change if your budget is `$1000`, `$2000`, or `$1500`?"
   ]
  },
  {
   "cell_type": "code",
   "execution_count": 172,
   "id": "a1bf6a2b",
   "metadata": {
    "scrolled": true
   },
   "outputs": [
    {
     "name": "stdout",
     "output_type": "stream",
     "text": [
      "{248.57142857142856: 'Paris', 297.14285714285717: 'London', 396.42857142857144: 'Dubai', 470.0: 'Mumbai'}\n",
      "1\n",
      "{297.1428571428571: 'Paris', 344.2857142857143: 'London', 422.85714285714283: 'Dubai', 490.0: 'Mumbai'}\n",
      "2\n",
      "{345.7142857142857: 'Paris', 391.42857142857144: 'London', 449.2857142857143: 'Dubai', 510.0: 'Mumbai'}\n",
      "3\n",
      "{394.2857142857143: 'Paris', 438.57142857142856: 'London', 475.7142857142857: 'Dubai', 530.0: 'Mumbai'}\n",
      "4\n",
      "{442.8571428571429: 'Paris', 485.7142857142857: 'London', 502.14285714285717: 'Dubai', 550.0: 'Mumbai'}\n",
      "5\n",
      "{491.42857142857144: 'Paris', 532.8571428571429: 'London', 528.5714285714286: 'Dubai', 570.0: 'Mumbai'}\n",
      "6\n",
      "{540.0: 'Paris', 580.0: 'London', 555.0: 'Dubai', 590.0: 'Mumbai'}\n",
      "7\n",
      "{588.5714285714286: 'Paris', 627.1428571428571: 'London', 581.4285714285714: 'Dubai', 610.0: 'Mumbai'}\n",
      "8\n",
      "{637.1428571428571: 'Paris', 674.2857142857143: 'London', 607.8571428571429: 'Dubai', 630.0: 'Mumbai'}\n",
      "9\n",
      "{685.7142857142858: 'Paris', 721.4285714285714: 'London', 634.2857142857143: 'Dubai', 650.0: 'Mumbai'}\n",
      "10\n",
      "{734.2857142857142: 'Paris', 768.5714285714286: 'London', 660.7142857142857: 'Dubai', 670.0: 'Mumbai'}\n",
      "11\n",
      "{782.8571428571429: 'Paris', 815.7142857142857: 'London', 687.1428571428571: 'Dubai', 690.0: 'Mumbai'}\n",
      "12\n",
      "{831.4285714285714: 'Paris', 862.8571428571429: 'London', 713.5714285714286: 'Dubai', 710.0: 'Mumbai'}\n",
      "13\n",
      "{880.0: 'Paris', 910.0: 'London', 740.0: 'Dubai', 730.0: 'Mumbai'}\n",
      "14\n",
      "{928.5714285714286: 'Paris', 957.1428571428571: 'London', 766.4285714285714: 'Dubai', 750.0: 'Mumbai'}\n",
      "15\n",
      "{977.1428571428571: 'Paris', 1004.2857142857142: 'London', 792.8571428571429: 'Dubai', 770.0: 'Mumbai'}\n",
      "16\n",
      "{1025.7142857142858: 'Paris', 1051.4285714285713: 'London', 819.2857142857142: 'Dubai', 790.0: 'Mumbai'}\n",
      "17\n",
      "{1074.2857142857142: 'Paris', 1098.5714285714287: 'London', 845.7142857142858: 'Dubai', 810.0: 'Mumbai'}\n",
      "18\n",
      "{1122.857142857143: 'Paris', 1145.7142857142858: 'London', 872.1428571428571: 'Dubai', 830.0: 'Mumbai'}\n",
      "19\n",
      "{1171.4285714285716: 'Paris', 1192.857142857143: 'London', 898.5714285714286: 'Dubai', 850.0: 'Mumbai'}\n",
      "20\n",
      "{1220.0: 'Paris', 1240.0: 'London', 925.0: 'Dubai', 870.0: 'Mumbai'}\n",
      "21\n",
      "{1268.5714285714284: 'Paris', 1287.142857142857: 'London', 951.4285714285714: 'Dubai', 890.0: 'Mumbai'}\n",
      "22\n",
      "{1317.142857142857: 'Paris', 1334.2857142857142: 'London', 977.8571428571429: 'Dubai', 910.0: 'Mumbai'}\n",
      "23\n",
      "{1365.7142857142858: 'Paris', 1381.4285714285713: 'London', 1004.2857142857142: 'Dubai', 930.0: 'Mumbai'}\n",
      "24\n",
      "{1414.2857142857142: 'Paris', 1428.5714285714287: 'London', 1030.7142857142858: 'Dubai', 950.0: 'Mumbai'}\n",
      "25\n",
      "{1462.857142857143: 'Paris', 1475.7142857142858: 'London', 1057.142857142857: 'Dubai', 970.0: 'Mumbai'}\n",
      "26\n",
      "{1511.4285714285716: 'Paris', 1522.857142857143: 'London', 1083.5714285714284: 'Dubai', 990.0: 'Mumbai'}\n",
      "27\n",
      "\n",
      " Minimum total_cost (1010.0) has now become greater than budget (1000). So ouput for total_cost_before,\n",
      "\n",
      " city with Max days: \n"
     ]
    },
    {
     "data": {
      "text/plain": [
       "('Mumbai', '27 Days')"
      ]
     },
     "execution_count": 172,
     "metadata": {},
     "output_type": "execute_result"
    }
   ],
   "source": [
    "duration(1000)"
   ]
  },
  {
   "cell_type": "code",
   "execution_count": 173,
   "id": "4c85aad5",
   "metadata": {
    "scrolled": true
   },
   "outputs": [
    {
     "name": "stdout",
     "output_type": "stream",
     "text": [
      "{248.57142857142856: 'Paris', 297.14285714285717: 'London', 396.42857142857144: 'Dubai', 470.0: 'Mumbai'}\n",
      "1\n",
      "{297.1428571428571: 'Paris', 344.2857142857143: 'London', 422.85714285714283: 'Dubai', 490.0: 'Mumbai'}\n",
      "2\n",
      "{345.7142857142857: 'Paris', 391.42857142857144: 'London', 449.2857142857143: 'Dubai', 510.0: 'Mumbai'}\n",
      "3\n",
      "{394.2857142857143: 'Paris', 438.57142857142856: 'London', 475.7142857142857: 'Dubai', 530.0: 'Mumbai'}\n",
      "4\n",
      "{442.8571428571429: 'Paris', 485.7142857142857: 'London', 502.14285714285717: 'Dubai', 550.0: 'Mumbai'}\n",
      "5\n",
      "{491.42857142857144: 'Paris', 532.8571428571429: 'London', 528.5714285714286: 'Dubai', 570.0: 'Mumbai'}\n",
      "6\n",
      "{540.0: 'Paris', 580.0: 'London', 555.0: 'Dubai', 590.0: 'Mumbai'}\n",
      "7\n",
      "{588.5714285714286: 'Paris', 627.1428571428571: 'London', 581.4285714285714: 'Dubai', 610.0: 'Mumbai'}\n",
      "8\n",
      "{637.1428571428571: 'Paris', 674.2857142857143: 'London', 607.8571428571429: 'Dubai', 630.0: 'Mumbai'}\n",
      "9\n",
      "{685.7142857142858: 'Paris', 721.4285714285714: 'London', 634.2857142857143: 'Dubai', 650.0: 'Mumbai'}\n",
      "10\n",
      "{734.2857142857142: 'Paris', 768.5714285714286: 'London', 660.7142857142857: 'Dubai', 670.0: 'Mumbai'}\n",
      "11\n",
      "{782.8571428571429: 'Paris', 815.7142857142857: 'London', 687.1428571428571: 'Dubai', 690.0: 'Mumbai'}\n",
      "12\n",
      "{831.4285714285714: 'Paris', 862.8571428571429: 'London', 713.5714285714286: 'Dubai', 710.0: 'Mumbai'}\n",
      "13\n",
      "{880.0: 'Paris', 910.0: 'London', 740.0: 'Dubai', 730.0: 'Mumbai'}\n",
      "14\n",
      "{928.5714285714286: 'Paris', 957.1428571428571: 'London', 766.4285714285714: 'Dubai', 750.0: 'Mumbai'}\n",
      "15\n",
      "\n",
      " Maximum total_cost (1004.2857142857142) has now become greater than budget (1000). So ouput for total_cost_before,\n",
      "\n",
      " City with Min days: \n"
     ]
    },
    {
     "data": {
      "text/plain": [
       "('London', '15 Days')"
      ]
     },
     "execution_count": 173,
     "metadata": {},
     "output_type": "execute_result"
    }
   ],
   "source": [
    "duration(1000, less_days = True)"
   ]
  },
  {
   "cell_type": "code",
   "execution_count": 174,
   "id": "bc2de053",
   "metadata": {
    "scrolled": true
   },
   "outputs": [
    {
     "name": "stdout",
     "output_type": "stream",
     "text": [
      "{248.57142857142856: 'Paris', 297.14285714285717: 'London', 396.42857142857144: 'Dubai', 470.0: 'Mumbai'}\n",
      "1\n",
      "{297.1428571428571: 'Paris', 344.2857142857143: 'London', 422.85714285714283: 'Dubai', 490.0: 'Mumbai'}\n",
      "2\n",
      "{345.7142857142857: 'Paris', 391.42857142857144: 'London', 449.2857142857143: 'Dubai', 510.0: 'Mumbai'}\n",
      "3\n",
      "{394.2857142857143: 'Paris', 438.57142857142856: 'London', 475.7142857142857: 'Dubai', 530.0: 'Mumbai'}\n",
      "4\n",
      "{442.8571428571429: 'Paris', 485.7142857142857: 'London', 502.14285714285717: 'Dubai', 550.0: 'Mumbai'}\n",
      "5\n",
      "{491.42857142857144: 'Paris', 532.8571428571429: 'London', 528.5714285714286: 'Dubai', 570.0: 'Mumbai'}\n",
      "6\n",
      "{540.0: 'Paris', 580.0: 'London', 555.0: 'Dubai', 590.0: 'Mumbai'}\n",
      "7\n",
      "{588.5714285714286: 'Paris', 627.1428571428571: 'London', 581.4285714285714: 'Dubai', 610.0: 'Mumbai'}\n",
      "8\n",
      "{637.1428571428571: 'Paris', 674.2857142857143: 'London', 607.8571428571429: 'Dubai', 630.0: 'Mumbai'}\n",
      "9\n",
      "{685.7142857142858: 'Paris', 721.4285714285714: 'London', 634.2857142857143: 'Dubai', 650.0: 'Mumbai'}\n",
      "10\n",
      "{734.2857142857142: 'Paris', 768.5714285714286: 'London', 660.7142857142857: 'Dubai', 670.0: 'Mumbai'}\n",
      "11\n",
      "{782.8571428571429: 'Paris', 815.7142857142857: 'London', 687.1428571428571: 'Dubai', 690.0: 'Mumbai'}\n",
      "12\n",
      "{831.4285714285714: 'Paris', 862.8571428571429: 'London', 713.5714285714286: 'Dubai', 710.0: 'Mumbai'}\n",
      "13\n",
      "{880.0: 'Paris', 910.0: 'London', 740.0: 'Dubai', 730.0: 'Mumbai'}\n",
      "14\n",
      "{928.5714285714286: 'Paris', 957.1428571428571: 'London', 766.4285714285714: 'Dubai', 750.0: 'Mumbai'}\n",
      "15\n",
      "{977.1428571428571: 'Paris', 1004.2857142857142: 'London', 792.8571428571429: 'Dubai', 770.0: 'Mumbai'}\n",
      "16\n",
      "{1025.7142857142858: 'Paris', 1051.4285714285713: 'London', 819.2857142857142: 'Dubai', 790.0: 'Mumbai'}\n",
      "17\n",
      "{1074.2857142857142: 'Paris', 1098.5714285714287: 'London', 845.7142857142858: 'Dubai', 810.0: 'Mumbai'}\n",
      "18\n",
      "{1122.857142857143: 'Paris', 1145.7142857142858: 'London', 872.1428571428571: 'Dubai', 830.0: 'Mumbai'}\n",
      "19\n",
      "{1171.4285714285716: 'Paris', 1192.857142857143: 'London', 898.5714285714286: 'Dubai', 850.0: 'Mumbai'}\n",
      "20\n",
      "{1220.0: 'Paris', 1240.0: 'London', 925.0: 'Dubai', 870.0: 'Mumbai'}\n",
      "21\n",
      "{1268.5714285714284: 'Paris', 1287.142857142857: 'London', 951.4285714285714: 'Dubai', 890.0: 'Mumbai'}\n",
      "22\n",
      "{1317.142857142857: 'Paris', 1334.2857142857142: 'London', 977.8571428571429: 'Dubai', 910.0: 'Mumbai'}\n",
      "23\n",
      "{1365.7142857142858: 'Paris', 1381.4285714285713: 'London', 1004.2857142857142: 'Dubai', 930.0: 'Mumbai'}\n",
      "24\n",
      "{1414.2857142857142: 'Paris', 1428.5714285714287: 'London', 1030.7142857142858: 'Dubai', 950.0: 'Mumbai'}\n",
      "25\n",
      "{1462.857142857143: 'Paris', 1475.7142857142858: 'London', 1057.142857142857: 'Dubai', 970.0: 'Mumbai'}\n",
      "26\n",
      "{1511.4285714285716: 'Paris', 1522.857142857143: 'London', 1083.5714285714284: 'Dubai', 990.0: 'Mumbai'}\n",
      "27\n",
      "{1560.0: 'Paris', 1570.0: 'London', 1110.0: 'Dubai', 1010.0: 'Mumbai'}\n",
      "28\n",
      "{1608.5714285714287: 'Paris', 1617.142857142857: 'London', 1136.4285714285716: 'Dubai', 1030.0: 'Mumbai'}\n",
      "29\n",
      "{1657.142857142857: 'Paris', 1664.2857142857142: 'London', 1162.857142857143: 'Dubai', 1050.0: 'Mumbai'}\n",
      "30\n",
      "{1705.7142857142858: 'Paris', 1711.4285714285716: 'London', 1189.2857142857142: 'Dubai', 1070.0: 'Mumbai'}\n",
      "31\n",
      "{1754.2857142857142: 'Paris', 1758.5714285714284: 'London', 1215.7142857142858: 'Dubai', 1090.0: 'Mumbai'}\n",
      "32\n",
      "{1802.857142857143: 'Paris', 1805.7142857142858: 'London', 1242.142857142857: 'Dubai', 1110.0: 'Mumbai'}\n",
      "33\n",
      "{1851.4285714285713: 'Paris', 1852.8571428571427: 'London', 1268.5714285714284: 'Dubai', 1130.0: 'Mumbai'}\n",
      "34\n",
      "{1900.0: 'London', 1295.0: 'Dubai', 1150.0: 'Mumbai'}\n",
      "35\n",
      "{1948.5714285714287: 'Paris', 1947.1428571428573: 'London', 1321.4285714285716: 'Dubai', 1170.0: 'Mumbai'}\n",
      "36\n",
      "{1997.142857142857: 'Paris', 1994.2857142857142: 'London', 1347.857142857143: 'Dubai', 1190.0: 'Mumbai'}\n",
      "37\n",
      "{2045.7142857142858: 'Paris', 2041.4285714285716: 'London', 1374.2857142857142: 'Dubai', 1210.0: 'Mumbai'}\n",
      "38\n",
      "{2094.285714285714: 'Paris', 2088.5714285714284: 'London', 1400.7142857142858: 'Dubai', 1230.0: 'Mumbai'}\n",
      "39\n",
      "{2142.857142857143: 'Paris', 2135.714285714286: 'London', 1427.142857142857: 'Dubai', 1250.0: 'Mumbai'}\n",
      "40\n",
      "{2191.4285714285716: 'Paris', 2182.8571428571427: 'London', 1453.5714285714284: 'Dubai', 1270.0: 'Mumbai'}\n",
      "41\n",
      "{2240.0: 'Paris', 2230.0: 'London', 1480.0: 'Dubai', 1290.0: 'Mumbai'}\n",
      "42\n",
      "{2288.5714285714284: 'Paris', 2277.1428571428573: 'London', 1506.4285714285716: 'Dubai', 1310.0: 'Mumbai'}\n",
      "43\n",
      "{2337.142857142857: 'Paris', 2324.285714285714: 'London', 1532.857142857143: 'Dubai', 1330.0: 'Mumbai'}\n",
      "44\n",
      "{2385.714285714286: 'Paris', 2371.4285714285716: 'London', 1559.2857142857142: 'Dubai', 1350.0: 'Mumbai'}\n",
      "45\n",
      "{2434.285714285714: 'Paris', 2418.5714285714284: 'London', 1585.7142857142858: 'Dubai', 1370.0: 'Mumbai'}\n",
      "46\n",
      "{2482.857142857143: 'Paris', 2465.714285714286: 'London', 1612.142857142857: 'Dubai', 1390.0: 'Mumbai'}\n",
      "47\n",
      "{2531.4285714285716: 'Paris', 2512.8571428571427: 'London', 1638.5714285714284: 'Dubai', 1410.0: 'Mumbai'}\n",
      "48\n",
      "{2580.0: 'Paris', 2560.0: 'London', 1665.0: 'Dubai', 1430.0: 'Mumbai'}\n",
      "49\n",
      "{2628.5714285714284: 'Paris', 2607.1428571428573: 'London', 1691.4285714285716: 'Dubai', 1450.0: 'Mumbai'}\n",
      "50\n",
      "{2677.142857142857: 'Paris', 2654.285714285714: 'London', 1717.857142857143: 'Dubai', 1470.0: 'Mumbai'}\n",
      "51\n",
      "{2725.714285714286: 'Paris', 2701.4285714285716: 'London', 1744.2857142857142: 'Dubai', 1490.0: 'Mumbai'}\n",
      "52\n",
      "{2774.285714285714: 'Paris', 2748.5714285714284: 'London', 1770.7142857142858: 'Dubai', 1510.0: 'Mumbai'}\n",
      "53\n",
      "{2822.857142857143: 'Paris', 2795.714285714286: 'London', 1797.142857142857: 'Dubai', 1530.0: 'Mumbai'}\n",
      "54\n",
      "{2871.4285714285716: 'Paris', 2842.8571428571427: 'London', 1823.5714285714284: 'Dubai', 1550.0: 'Mumbai'}\n",
      "55\n",
      "{2920.0: 'Paris', 2890.0: 'London', 1850.0: 'Dubai', 1570.0: 'Mumbai'}\n",
      "56\n",
      "{2968.5714285714284: 'Paris', 2937.142857142857: 'London', 1876.4285714285713: 'Dubai', 1590.0: 'Mumbai'}\n",
      "57\n",
      "{3017.1428571428573: 'Paris', 2984.285714285714: 'London', 1902.857142857143: 'Dubai', 1610.0: 'Mumbai'}\n",
      "58\n",
      "{3065.714285714286: 'Paris', 3031.4285714285716: 'London', 1929.2857142857142: 'Dubai', 1630.0: 'Mumbai'}\n",
      "59\n",
      "{3114.285714285714: 'Paris', 3078.5714285714284: 'London', 1955.7142857142858: 'Dubai', 1650.0: 'Mumbai'}\n",
      "60\n",
      "{3162.8571428571427: 'Paris', 3125.7142857142853: 'London', 1982.142857142857: 'Dubai', 1670.0: 'Mumbai'}\n",
      "61\n",
      "{3211.4285714285716: 'Paris', 3172.857142857143: 'London', 2008.5714285714287: 'Dubai', 1690.0: 'Mumbai'}\n",
      "62\n",
      "{3260.0: 'Paris', 3220.0: 'London', 2035.0: 'Dubai', 1710.0: 'Mumbai'}\n",
      "63\n",
      "{3308.5714285714284: 'Paris', 3267.142857142857: 'London', 2061.4285714285716: 'Dubai', 1730.0: 'Mumbai'}\n",
      "64\n",
      "{3357.1428571428573: 'Paris', 3314.2857142857147: 'London', 2087.857142857143: 'Dubai', 1750.0: 'Mumbai'}\n",
      "65\n",
      "{3405.714285714286: 'Paris', 3361.4285714285716: 'London', 2114.285714285714: 'Dubai', 1770.0: 'Mumbai'}\n",
      "66\n",
      "{3454.285714285714: 'Paris', 3408.5714285714284: 'London', 2140.714285714286: 'Dubai', 1790.0: 'Mumbai'}\n",
      "67\n",
      "{3502.8571428571427: 'Paris', 3455.7142857142853: 'London', 2167.142857142857: 'Dubai', 1810.0: 'Mumbai'}\n",
      "68\n",
      "{3551.4285714285716: 'Paris', 3502.857142857143: 'London', 2193.5714285714284: 'Dubai', 1830.0: 'Mumbai'}\n",
      "69\n",
      "{3600.0: 'Paris', 3550.0: 'London', 2220.0: 'Dubai', 1850.0: 'Mumbai'}\n",
      "70\n",
      "{3648.5714285714284: 'Paris', 3597.142857142857: 'London', 2246.4285714285716: 'Dubai', 1870.0: 'Mumbai'}\n",
      "71\n",
      "{3697.1428571428573: 'Paris', 3644.2857142857147: 'London', 2272.857142857143: 'Dubai', 1890.0: 'Mumbai'}\n",
      "72\n",
      "{3745.714285714286: 'Paris', 3691.4285714285716: 'London', 2299.285714285714: 'Dubai', 1910.0: 'Mumbai'}\n",
      "73\n",
      "{3794.285714285714: 'Paris', 3738.5714285714284: 'London', 2325.714285714286: 'Dubai', 1930.0: 'Mumbai'}\n",
      "74\n",
      "{3842.8571428571427: 'Paris', 3785.7142857142853: 'London', 2352.142857142857: 'Dubai', 1950.0: 'Mumbai'}\n",
      "75\n",
      "{3891.4285714285716: 'Paris', 3832.857142857143: 'London', 2378.5714285714284: 'Dubai', 1970.0: 'Mumbai'}\n",
      "76\n",
      "{3940.0: 'Paris', 3880.0: 'London', 2405.0: 'Dubai', 1990.0: 'Mumbai'}\n",
      "77\n",
      "\n",
      " Minimum total_cost (2010.0) has now become greater than budget (2000). So ouput for total_cost_before,\n",
      "\n",
      " city with Max days: \n"
     ]
    },
    {
     "data": {
      "text/plain": [
       "('Mumbai', '77 Days')"
      ]
     },
     "execution_count": 174,
     "metadata": {},
     "output_type": "execute_result"
    }
   ],
   "source": [
    "duration(2000)"
   ]
  },
  {
   "cell_type": "code",
   "execution_count": 175,
   "id": "0398e274",
   "metadata": {
    "scrolled": true
   },
   "outputs": [
    {
     "name": "stdout",
     "output_type": "stream",
     "text": [
      "{248.57142857142856: 'Paris', 297.14285714285717: 'London', 396.42857142857144: 'Dubai', 470.0: 'Mumbai'}\n",
      "1\n",
      "{297.1428571428571: 'Paris', 344.2857142857143: 'London', 422.85714285714283: 'Dubai', 490.0: 'Mumbai'}\n",
      "2\n",
      "{345.7142857142857: 'Paris', 391.42857142857144: 'London', 449.2857142857143: 'Dubai', 510.0: 'Mumbai'}\n",
      "3\n",
      "{394.2857142857143: 'Paris', 438.57142857142856: 'London', 475.7142857142857: 'Dubai', 530.0: 'Mumbai'}\n",
      "4\n",
      "{442.8571428571429: 'Paris', 485.7142857142857: 'London', 502.14285714285717: 'Dubai', 550.0: 'Mumbai'}\n",
      "5\n",
      "{491.42857142857144: 'Paris', 532.8571428571429: 'London', 528.5714285714286: 'Dubai', 570.0: 'Mumbai'}\n",
      "6\n",
      "{540.0: 'Paris', 580.0: 'London', 555.0: 'Dubai', 590.0: 'Mumbai'}\n",
      "7\n",
      "{588.5714285714286: 'Paris', 627.1428571428571: 'London', 581.4285714285714: 'Dubai', 610.0: 'Mumbai'}\n",
      "8\n",
      "{637.1428571428571: 'Paris', 674.2857142857143: 'London', 607.8571428571429: 'Dubai', 630.0: 'Mumbai'}\n",
      "9\n",
      "{685.7142857142858: 'Paris', 721.4285714285714: 'London', 634.2857142857143: 'Dubai', 650.0: 'Mumbai'}\n",
      "10\n",
      "{734.2857142857142: 'Paris', 768.5714285714286: 'London', 660.7142857142857: 'Dubai', 670.0: 'Mumbai'}\n",
      "11\n",
      "{782.8571428571429: 'Paris', 815.7142857142857: 'London', 687.1428571428571: 'Dubai', 690.0: 'Mumbai'}\n",
      "12\n",
      "{831.4285714285714: 'Paris', 862.8571428571429: 'London', 713.5714285714286: 'Dubai', 710.0: 'Mumbai'}\n",
      "13\n",
      "{880.0: 'Paris', 910.0: 'London', 740.0: 'Dubai', 730.0: 'Mumbai'}\n",
      "14\n",
      "{928.5714285714286: 'Paris', 957.1428571428571: 'London', 766.4285714285714: 'Dubai', 750.0: 'Mumbai'}\n",
      "15\n",
      "{977.1428571428571: 'Paris', 1004.2857142857142: 'London', 792.8571428571429: 'Dubai', 770.0: 'Mumbai'}\n",
      "16\n",
      "{1025.7142857142858: 'Paris', 1051.4285714285713: 'London', 819.2857142857142: 'Dubai', 790.0: 'Mumbai'}\n",
      "17\n",
      "{1074.2857142857142: 'Paris', 1098.5714285714287: 'London', 845.7142857142858: 'Dubai', 810.0: 'Mumbai'}\n",
      "18\n",
      "{1122.857142857143: 'Paris', 1145.7142857142858: 'London', 872.1428571428571: 'Dubai', 830.0: 'Mumbai'}\n",
      "19\n",
      "{1171.4285714285716: 'Paris', 1192.857142857143: 'London', 898.5714285714286: 'Dubai', 850.0: 'Mumbai'}\n",
      "20\n",
      "{1220.0: 'Paris', 1240.0: 'London', 925.0: 'Dubai', 870.0: 'Mumbai'}\n",
      "21\n",
      "{1268.5714285714284: 'Paris', 1287.142857142857: 'London', 951.4285714285714: 'Dubai', 890.0: 'Mumbai'}\n",
      "22\n",
      "{1317.142857142857: 'Paris', 1334.2857142857142: 'London', 977.8571428571429: 'Dubai', 910.0: 'Mumbai'}\n",
      "23\n",
      "{1365.7142857142858: 'Paris', 1381.4285714285713: 'London', 1004.2857142857142: 'Dubai', 930.0: 'Mumbai'}\n",
      "24\n",
      "{1414.2857142857142: 'Paris', 1428.5714285714287: 'London', 1030.7142857142858: 'Dubai', 950.0: 'Mumbai'}\n",
      "25\n",
      "{1462.857142857143: 'Paris', 1475.7142857142858: 'London', 1057.142857142857: 'Dubai', 970.0: 'Mumbai'}\n",
      "26\n",
      "{1511.4285714285716: 'Paris', 1522.857142857143: 'London', 1083.5714285714284: 'Dubai', 990.0: 'Mumbai'}\n",
      "27\n",
      "{1560.0: 'Paris', 1570.0: 'London', 1110.0: 'Dubai', 1010.0: 'Mumbai'}\n",
      "28\n",
      "{1608.5714285714287: 'Paris', 1617.142857142857: 'London', 1136.4285714285716: 'Dubai', 1030.0: 'Mumbai'}\n",
      "29\n",
      "{1657.142857142857: 'Paris', 1664.2857142857142: 'London', 1162.857142857143: 'Dubai', 1050.0: 'Mumbai'}\n",
      "30\n",
      "{1705.7142857142858: 'Paris', 1711.4285714285716: 'London', 1189.2857142857142: 'Dubai', 1070.0: 'Mumbai'}\n",
      "31\n",
      "{1754.2857142857142: 'Paris', 1758.5714285714284: 'London', 1215.7142857142858: 'Dubai', 1090.0: 'Mumbai'}\n",
      "32\n",
      "{1802.857142857143: 'Paris', 1805.7142857142858: 'London', 1242.142857142857: 'Dubai', 1110.0: 'Mumbai'}\n",
      "33\n",
      "{1851.4285714285713: 'Paris', 1852.8571428571427: 'London', 1268.5714285714284: 'Dubai', 1130.0: 'Mumbai'}\n",
      "34\n",
      "{1900.0: 'London', 1295.0: 'Dubai', 1150.0: 'Mumbai'}\n",
      "35\n",
      "{1948.5714285714287: 'Paris', 1947.1428571428573: 'London', 1321.4285714285716: 'Dubai', 1170.0: 'Mumbai'}\n",
      "36\n",
      "{1997.142857142857: 'Paris', 1994.2857142857142: 'London', 1347.857142857143: 'Dubai', 1190.0: 'Mumbai'}\n",
      "37\n",
      "\n",
      " Maximum total_cost (2045.7142857142858) has now become greater than budget (2000). So ouput for total_cost_before,\n",
      "\n",
      " City with Min days: \n"
     ]
    },
    {
     "data": {
      "text/plain": [
       "('Paris', '37 Days')"
      ]
     },
     "execution_count": 175,
     "metadata": {},
     "output_type": "execute_result"
    }
   ],
   "source": [
    "duration(2000, less_days = True)"
   ]
  },
  {
   "cell_type": "code",
   "execution_count": 176,
   "id": "9cffba9f",
   "metadata": {
    "scrolled": true
   },
   "outputs": [
    {
     "name": "stdout",
     "output_type": "stream",
     "text": [
      "{248.57142857142856: 'Paris', 297.14285714285717: 'London', 396.42857142857144: 'Dubai', 470.0: 'Mumbai'}\n",
      "1\n",
      "{297.1428571428571: 'Paris', 344.2857142857143: 'London', 422.85714285714283: 'Dubai', 490.0: 'Mumbai'}\n",
      "2\n",
      "{345.7142857142857: 'Paris', 391.42857142857144: 'London', 449.2857142857143: 'Dubai', 510.0: 'Mumbai'}\n",
      "3\n",
      "{394.2857142857143: 'Paris', 438.57142857142856: 'London', 475.7142857142857: 'Dubai', 530.0: 'Mumbai'}\n",
      "4\n",
      "{442.8571428571429: 'Paris', 485.7142857142857: 'London', 502.14285714285717: 'Dubai', 550.0: 'Mumbai'}\n",
      "5\n",
      "{491.42857142857144: 'Paris', 532.8571428571429: 'London', 528.5714285714286: 'Dubai', 570.0: 'Mumbai'}\n",
      "6\n",
      "{540.0: 'Paris', 580.0: 'London', 555.0: 'Dubai', 590.0: 'Mumbai'}\n",
      "7\n",
      "{588.5714285714286: 'Paris', 627.1428571428571: 'London', 581.4285714285714: 'Dubai', 610.0: 'Mumbai'}\n",
      "8\n",
      "{637.1428571428571: 'Paris', 674.2857142857143: 'London', 607.8571428571429: 'Dubai', 630.0: 'Mumbai'}\n",
      "9\n",
      "{685.7142857142858: 'Paris', 721.4285714285714: 'London', 634.2857142857143: 'Dubai', 650.0: 'Mumbai'}\n",
      "10\n",
      "{734.2857142857142: 'Paris', 768.5714285714286: 'London', 660.7142857142857: 'Dubai', 670.0: 'Mumbai'}\n",
      "11\n",
      "{782.8571428571429: 'Paris', 815.7142857142857: 'London', 687.1428571428571: 'Dubai', 690.0: 'Mumbai'}\n",
      "12\n",
      "{831.4285714285714: 'Paris', 862.8571428571429: 'London', 713.5714285714286: 'Dubai', 710.0: 'Mumbai'}\n",
      "13\n",
      "{880.0: 'Paris', 910.0: 'London', 740.0: 'Dubai', 730.0: 'Mumbai'}\n",
      "14\n",
      "{928.5714285714286: 'Paris', 957.1428571428571: 'London', 766.4285714285714: 'Dubai', 750.0: 'Mumbai'}\n",
      "15\n",
      "{977.1428571428571: 'Paris', 1004.2857142857142: 'London', 792.8571428571429: 'Dubai', 770.0: 'Mumbai'}\n",
      "16\n",
      "{1025.7142857142858: 'Paris', 1051.4285714285713: 'London', 819.2857142857142: 'Dubai', 790.0: 'Mumbai'}\n",
      "17\n",
      "{1074.2857142857142: 'Paris', 1098.5714285714287: 'London', 845.7142857142858: 'Dubai', 810.0: 'Mumbai'}\n",
      "18\n",
      "{1122.857142857143: 'Paris', 1145.7142857142858: 'London', 872.1428571428571: 'Dubai', 830.0: 'Mumbai'}\n",
      "19\n",
      "{1171.4285714285716: 'Paris', 1192.857142857143: 'London', 898.5714285714286: 'Dubai', 850.0: 'Mumbai'}\n",
      "20\n",
      "{1220.0: 'Paris', 1240.0: 'London', 925.0: 'Dubai', 870.0: 'Mumbai'}\n",
      "21\n",
      "{1268.5714285714284: 'Paris', 1287.142857142857: 'London', 951.4285714285714: 'Dubai', 890.0: 'Mumbai'}\n",
      "22\n",
      "{1317.142857142857: 'Paris', 1334.2857142857142: 'London', 977.8571428571429: 'Dubai', 910.0: 'Mumbai'}\n",
      "23\n",
      "{1365.7142857142858: 'Paris', 1381.4285714285713: 'London', 1004.2857142857142: 'Dubai', 930.0: 'Mumbai'}\n",
      "24\n",
      "{1414.2857142857142: 'Paris', 1428.5714285714287: 'London', 1030.7142857142858: 'Dubai', 950.0: 'Mumbai'}\n",
      "25\n",
      "{1462.857142857143: 'Paris', 1475.7142857142858: 'London', 1057.142857142857: 'Dubai', 970.0: 'Mumbai'}\n",
      "26\n",
      "{1511.4285714285716: 'Paris', 1522.857142857143: 'London', 1083.5714285714284: 'Dubai', 990.0: 'Mumbai'}\n",
      "27\n",
      "{1560.0: 'Paris', 1570.0: 'London', 1110.0: 'Dubai', 1010.0: 'Mumbai'}\n",
      "28\n",
      "{1608.5714285714287: 'Paris', 1617.142857142857: 'London', 1136.4285714285716: 'Dubai', 1030.0: 'Mumbai'}\n",
      "29\n",
      "{1657.142857142857: 'Paris', 1664.2857142857142: 'London', 1162.857142857143: 'Dubai', 1050.0: 'Mumbai'}\n",
      "30\n",
      "{1705.7142857142858: 'Paris', 1711.4285714285716: 'London', 1189.2857142857142: 'Dubai', 1070.0: 'Mumbai'}\n",
      "31\n",
      "{1754.2857142857142: 'Paris', 1758.5714285714284: 'London', 1215.7142857142858: 'Dubai', 1090.0: 'Mumbai'}\n",
      "32\n",
      "{1802.857142857143: 'Paris', 1805.7142857142858: 'London', 1242.142857142857: 'Dubai', 1110.0: 'Mumbai'}\n",
      "33\n",
      "{1851.4285714285713: 'Paris', 1852.8571428571427: 'London', 1268.5714285714284: 'Dubai', 1130.0: 'Mumbai'}\n",
      "34\n",
      "{1900.0: 'London', 1295.0: 'Dubai', 1150.0: 'Mumbai'}\n",
      "35\n",
      "{1948.5714285714287: 'Paris', 1947.1428571428573: 'London', 1321.4285714285716: 'Dubai', 1170.0: 'Mumbai'}\n",
      "36\n",
      "{1997.142857142857: 'Paris', 1994.2857142857142: 'London', 1347.857142857143: 'Dubai', 1190.0: 'Mumbai'}\n",
      "37\n",
      "{2045.7142857142858: 'Paris', 2041.4285714285716: 'London', 1374.2857142857142: 'Dubai', 1210.0: 'Mumbai'}\n",
      "38\n",
      "{2094.285714285714: 'Paris', 2088.5714285714284: 'London', 1400.7142857142858: 'Dubai', 1230.0: 'Mumbai'}\n",
      "39\n",
      "{2142.857142857143: 'Paris', 2135.714285714286: 'London', 1427.142857142857: 'Dubai', 1250.0: 'Mumbai'}\n",
      "40\n",
      "{2191.4285714285716: 'Paris', 2182.8571428571427: 'London', 1453.5714285714284: 'Dubai', 1270.0: 'Mumbai'}\n",
      "41\n",
      "{2240.0: 'Paris', 2230.0: 'London', 1480.0: 'Dubai', 1290.0: 'Mumbai'}\n",
      "42\n",
      "{2288.5714285714284: 'Paris', 2277.1428571428573: 'London', 1506.4285714285716: 'Dubai', 1310.0: 'Mumbai'}\n",
      "43\n",
      "{2337.142857142857: 'Paris', 2324.285714285714: 'London', 1532.857142857143: 'Dubai', 1330.0: 'Mumbai'}\n",
      "44\n",
      "{2385.714285714286: 'Paris', 2371.4285714285716: 'London', 1559.2857142857142: 'Dubai', 1350.0: 'Mumbai'}\n",
      "45\n",
      "{2434.285714285714: 'Paris', 2418.5714285714284: 'London', 1585.7142857142858: 'Dubai', 1370.0: 'Mumbai'}\n",
      "46\n",
      "{2482.857142857143: 'Paris', 2465.714285714286: 'London', 1612.142857142857: 'Dubai', 1390.0: 'Mumbai'}\n",
      "47\n",
      "{2531.4285714285716: 'Paris', 2512.8571428571427: 'London', 1638.5714285714284: 'Dubai', 1410.0: 'Mumbai'}\n",
      "48\n",
      "{2580.0: 'Paris', 2560.0: 'London', 1665.0: 'Dubai', 1430.0: 'Mumbai'}\n",
      "49\n",
      "{2628.5714285714284: 'Paris', 2607.1428571428573: 'London', 1691.4285714285716: 'Dubai', 1450.0: 'Mumbai'}\n",
      "50\n",
      "{2677.142857142857: 'Paris', 2654.285714285714: 'London', 1717.857142857143: 'Dubai', 1470.0: 'Mumbai'}\n",
      "51\n",
      "{2725.714285714286: 'Paris', 2701.4285714285716: 'London', 1744.2857142857142: 'Dubai', 1490.0: 'Mumbai'}\n",
      "52\n",
      "\n",
      " Minimum total_cost (1510.0) has now become greater than budget (1500). So ouput for total_cost_before,\n",
      "\n",
      " city with Max days: \n"
     ]
    },
    {
     "data": {
      "text/plain": [
       "('Mumbai', '52 Days')"
      ]
     },
     "execution_count": 176,
     "metadata": {},
     "output_type": "execute_result"
    }
   ],
   "source": [
    "duration(1500)"
   ]
  },
  {
   "cell_type": "code",
   "execution_count": 177,
   "id": "7a16f31f",
   "metadata": {
    "scrolled": true
   },
   "outputs": [
    {
     "name": "stdout",
     "output_type": "stream",
     "text": [
      "{248.57142857142856: 'Paris', 297.14285714285717: 'London', 396.42857142857144: 'Dubai', 470.0: 'Mumbai'}\n",
      "1\n",
      "{297.1428571428571: 'Paris', 344.2857142857143: 'London', 422.85714285714283: 'Dubai', 490.0: 'Mumbai'}\n",
      "2\n",
      "{345.7142857142857: 'Paris', 391.42857142857144: 'London', 449.2857142857143: 'Dubai', 510.0: 'Mumbai'}\n",
      "3\n",
      "{394.2857142857143: 'Paris', 438.57142857142856: 'London', 475.7142857142857: 'Dubai', 530.0: 'Mumbai'}\n",
      "4\n",
      "{442.8571428571429: 'Paris', 485.7142857142857: 'London', 502.14285714285717: 'Dubai', 550.0: 'Mumbai'}\n",
      "5\n",
      "{491.42857142857144: 'Paris', 532.8571428571429: 'London', 528.5714285714286: 'Dubai', 570.0: 'Mumbai'}\n",
      "6\n",
      "{540.0: 'Paris', 580.0: 'London', 555.0: 'Dubai', 590.0: 'Mumbai'}\n",
      "7\n",
      "{588.5714285714286: 'Paris', 627.1428571428571: 'London', 581.4285714285714: 'Dubai', 610.0: 'Mumbai'}\n",
      "8\n",
      "{637.1428571428571: 'Paris', 674.2857142857143: 'London', 607.8571428571429: 'Dubai', 630.0: 'Mumbai'}\n",
      "9\n",
      "{685.7142857142858: 'Paris', 721.4285714285714: 'London', 634.2857142857143: 'Dubai', 650.0: 'Mumbai'}\n",
      "10\n",
      "{734.2857142857142: 'Paris', 768.5714285714286: 'London', 660.7142857142857: 'Dubai', 670.0: 'Mumbai'}\n",
      "11\n",
      "{782.8571428571429: 'Paris', 815.7142857142857: 'London', 687.1428571428571: 'Dubai', 690.0: 'Mumbai'}\n",
      "12\n",
      "{831.4285714285714: 'Paris', 862.8571428571429: 'London', 713.5714285714286: 'Dubai', 710.0: 'Mumbai'}\n",
      "13\n",
      "{880.0: 'Paris', 910.0: 'London', 740.0: 'Dubai', 730.0: 'Mumbai'}\n",
      "14\n",
      "{928.5714285714286: 'Paris', 957.1428571428571: 'London', 766.4285714285714: 'Dubai', 750.0: 'Mumbai'}\n",
      "15\n",
      "{977.1428571428571: 'Paris', 1004.2857142857142: 'London', 792.8571428571429: 'Dubai', 770.0: 'Mumbai'}\n",
      "16\n",
      "{1025.7142857142858: 'Paris', 1051.4285714285713: 'London', 819.2857142857142: 'Dubai', 790.0: 'Mumbai'}\n",
      "17\n",
      "{1074.2857142857142: 'Paris', 1098.5714285714287: 'London', 845.7142857142858: 'Dubai', 810.0: 'Mumbai'}\n",
      "18\n",
      "{1122.857142857143: 'Paris', 1145.7142857142858: 'London', 872.1428571428571: 'Dubai', 830.0: 'Mumbai'}\n",
      "19\n",
      "{1171.4285714285716: 'Paris', 1192.857142857143: 'London', 898.5714285714286: 'Dubai', 850.0: 'Mumbai'}\n",
      "20\n",
      "{1220.0: 'Paris', 1240.0: 'London', 925.0: 'Dubai', 870.0: 'Mumbai'}\n",
      "21\n",
      "{1268.5714285714284: 'Paris', 1287.142857142857: 'London', 951.4285714285714: 'Dubai', 890.0: 'Mumbai'}\n",
      "22\n",
      "{1317.142857142857: 'Paris', 1334.2857142857142: 'London', 977.8571428571429: 'Dubai', 910.0: 'Mumbai'}\n",
      "23\n",
      "{1365.7142857142858: 'Paris', 1381.4285714285713: 'London', 1004.2857142857142: 'Dubai', 930.0: 'Mumbai'}\n",
      "24\n",
      "{1414.2857142857142: 'Paris', 1428.5714285714287: 'London', 1030.7142857142858: 'Dubai', 950.0: 'Mumbai'}\n",
      "25\n",
      "{1462.857142857143: 'Paris', 1475.7142857142858: 'London', 1057.142857142857: 'Dubai', 970.0: 'Mumbai'}\n",
      "26\n",
      "\n",
      " Maximum total_cost (1522.857142857143) has now become greater than budget (1500). So ouput for total_cost_before,\n",
      "\n",
      " City with Min days: \n"
     ]
    },
    {
     "data": {
      "text/plain": [
       "('London', '26 Days')"
      ]
     },
     "execution_count": 177,
     "metadata": {},
     "output_type": "execute_result"
    }
   ],
   "source": [
    "duration(1500, less_days = True)"
   ]
  }
 ],
 "metadata": {
  "kernelspec": {
   "display_name": "Python 3 (ipykernel)",
   "language": "python",
   "name": "python3"
  },
  "language_info": {
   "codemirror_mode": {
    "name": "ipython",
    "version": 3
   },
   "file_extension": ".py",
   "mimetype": "text/x-python",
   "name": "python",
   "nbconvert_exporter": "python",
   "pygments_lexer": "ipython3",
   "version": "3.10.9"
  }
 },
 "nbformat": 4,
 "nbformat_minor": 5
}
